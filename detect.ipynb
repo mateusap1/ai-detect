{
 "cells": [
  {
   "cell_type": "code",
   "execution_count": 99,
   "metadata": {},
   "outputs": [],
   "source": [
    "import numpy as np\n",
    "import pandas as pd\n",
    "import seaborn as sns\n",
    "import matplotlib.pyplot as plt\n",
    "\n",
    "from sklearn.base import BaseEstimator, TransformerMixin\n",
    "from sklearn.preprocessing import LabelEncoder\n",
    "from sklearn.pipeline import Pipeline\n",
    "\n",
    "from sklearn.model_selection import train_test_split\n",
    "\n",
    "from sklearn.discriminant_analysis import (\n",
    "    LinearDiscriminantAnalysis, QuadraticDiscriminantAnalysis\n",
    ")\n",
    "from sklearn.neighbors import KNeighborsClassifier\n",
    "from sklearn.ensemble import RandomForestClassifier\n",
    "\n",
    "from sklearn.svm import SVC\n",
    "\n",
    "from sklearn.metrics import classification_report, accuracy_score\n",
    "from sklearn.metrics import confusion_matrix, roc_curve, auc\n",
    "%matplotlib inline"
   ]
  },
  {
   "cell_type": "markdown",
   "metadata": {},
   "source": [
    "### Explorando os dados"
   ]
  },
  {
   "cell_type": "code",
   "execution_count": 4,
   "metadata": {},
   "outputs": [],
   "source": [
    "data = pd.read_csv(\"./LLM.csv\")"
   ]
  },
  {
   "cell_type": "code",
   "execution_count": 5,
   "metadata": {},
   "outputs": [
    {
     "data": {
      "text/html": [
       "<div>\n",
       "<style scoped>\n",
       "    .dataframe tbody tr th:only-of-type {\n",
       "        vertical-align: middle;\n",
       "    }\n",
       "\n",
       "    .dataframe tbody tr th {\n",
       "        vertical-align: top;\n",
       "    }\n",
       "\n",
       "    .dataframe thead th {\n",
       "        text-align: right;\n",
       "    }\n",
       "</style>\n",
       "<table border=\"1\" class=\"dataframe\">\n",
       "  <thead>\n",
       "    <tr style=\"text-align: right;\">\n",
       "      <th></th>\n",
       "      <th>Text</th>\n",
       "      <th>Label</th>\n",
       "    </tr>\n",
       "  </thead>\n",
       "  <tbody>\n",
       "    <tr>\n",
       "      <th>0</th>\n",
       "      <td>y r u always l8 to the meetings?</td>\n",
       "      <td>student</td>\n",
       "    </tr>\n",
       "    <tr>\n",
       "      <th>1</th>\n",
       "      <td>The project team embraced a user-centric desig...</td>\n",
       "      <td>ai</td>\n",
       "    </tr>\n",
       "    <tr>\n",
       "      <th>2</th>\n",
       "      <td>i dont like dealing with risks, it's too stres...</td>\n",
       "      <td>student</td>\n",
       "    </tr>\n",
       "    <tr>\n",
       "      <th>3</th>\n",
       "      <td>i dont worry about reliability, it's good enough</td>\n",
       "      <td>student</td>\n",
       "    </tr>\n",
       "    <tr>\n",
       "      <th>4</th>\n",
       "      <td>i dont care about human-centered design, just ...</td>\n",
       "      <td>student</td>\n",
       "    </tr>\n",
       "  </tbody>\n",
       "</table>\n",
       "</div>"
      ],
      "text/plain": [
       "                                                Text    Label\n",
       "0                   y r u always l8 to the meetings?  student\n",
       "1  The project team embraced a user-centric desig...       ai\n",
       "2  i dont like dealing with risks, it's too stres...  student\n",
       "3   i dont worry about reliability, it's good enough  student\n",
       "4  i dont care about human-centered design, just ...  student"
      ]
     },
     "execution_count": 5,
     "metadata": {},
     "output_type": "execute_result"
    }
   ],
   "source": [
    "data.head()"
   ]
  },
  {
   "cell_type": "markdown",
   "metadata": {},
   "source": [
    "### Divider dados de teste e treino"
   ]
  },
  {
   "cell_type": "code",
   "execution_count": 7,
   "metadata": {},
   "outputs": [
    {
     "data": {
      "text/plain": [
       "array(['y r u always l8 to the meetings?',\n",
       "       'The project team embraced a user-centric design approach for product development.',\n",
       "       \"i dont like dealing with risks, it's too stressful\", ...,\n",
       "       'i dont care about multi-method approaches, just give me the results',\n",
       "       'i dont understand variables, just give me the answer',\n",
       "       \"i dont worry about encryption, it's overrated\"], dtype=object)"
      ]
     },
     "execution_count": 7,
     "metadata": {},
     "output_type": "execute_result"
    }
   ],
   "source": [
    "features = data[\"Text\"].to_numpy()\n",
    "features"
   ]
  },
  {
   "cell_type": "code",
   "execution_count": 8,
   "metadata": {},
   "outputs": [
    {
     "data": {
      "text/plain": [
       "array(['student', 'ai', 'student', ..., 'student', 'student', 'student'],\n",
       "      dtype=object)"
      ]
     },
     "execution_count": 8,
     "metadata": {},
     "output_type": "execute_result"
    }
   ],
   "source": [
    "outputs = data[\"Label\"].to_numpy()\n",
    "outputs"
   ]
  },
  {
   "cell_type": "code",
   "execution_count": 9,
   "metadata": {},
   "outputs": [
    {
     "data": {
      "text/plain": [
       "(array([\"i dont like artificial intelligence, it's too unpredictable\",\n",
       "        \"i dont like agile approaches, they're too unpredictable\",\n",
       "        'In the world of robotics, advancements in artificial intelligence enable more complex tasks.',\n",
       "        'i dont need practical implications, just tell me what to do',\n",
       "        'The findings have practical implications for real-world applications.'],\n",
       "       dtype=object),\n",
       " array(['The data collection process was systematic and thorough.',\n",
       "        'The analysis considered the correlation between social media usage and mental health.',\n",
       "        'i dont talk about limitations, it makes me look bad',\n",
       "        'The data analysis software used is widely accepted in the field.',\n",
       "        'The research design ensured data privacy and confidentiality.'],\n",
       "       dtype=object),\n",
       " array(['student', 'student', 'ai', 'student', 'ai'], dtype=object),\n",
       " array(['ai', 'ai', 'student', 'ai', 'ai'], dtype=object))"
      ]
     },
     "execution_count": 9,
     "metadata": {},
     "output_type": "execute_result"
    }
   ],
   "source": [
    "x_train_raw, x_test_raw, y_train_raw, y_test_raw = train_test_split(\n",
    "    features, outputs, test_size=0.3\n",
    ")\n",
    "x_train_raw[:5], x_test_raw[:5], y_train_raw[:5], y_test_raw[:5]"
   ]
  },
  {
   "cell_type": "code",
   "execution_count": 11,
   "metadata": {},
   "outputs": [
    {
     "data": {
      "text/plain": [
       "(array([], dtype=int64),)"
      ]
     },
     "execution_count": 11,
     "metadata": {},
     "output_type": "execute_result"
    }
   ],
   "source": [
    "np.where((y_test_raw != 'ai') & (y_test_raw != 'student'))"
   ]
  },
  {
   "cell_type": "code",
   "execution_count": 12,
   "metadata": {},
   "outputs": [
    {
     "data": {
      "text/plain": [
       "array(['ai', 'ai', 'student', 'ai', 'ai', 'ai', 'ai', 'student',\n",
       "       'student', 'student', 'ai', 'student', 'student', 'ai', 'ai',\n",
       "       'student', 'student', 'student', 'student', 'ai', 'ai', 'ai',\n",
       "       'student', 'ai', 'student', 'student', 'student', 'student', 'ai',\n",
       "       'student', 'student', 'student', 'student', 'ai', 'student', 'ai',\n",
       "       'ai', 'ai', 'student', 'student', 'student', 'student', 'student',\n",
       "       'student', 'ai', 'ai', 'student', 'ai', 'student', 'ai', 'student',\n",
       "       'student', 'student', 'ai', 'student', 'student', 'student',\n",
       "       'student', 'student', 'student', 'student', 'student', 'student',\n",
       "       'ai', 'ai', 'ai', 'ai', 'ai', 'ai', 'ai', 'student', 'ai',\n",
       "       'student', 'ai', 'student', 'ai', 'ai', 'student', 'student',\n",
       "       'student', 'ai', 'student', 'student', 'ai', 'ai', 'student',\n",
       "       'student', 'ai', 'ai', 'ai', 'student', 'student', 'student', 'ai',\n",
       "       'student', 'student', 'student', 'student', 'ai', 'ai', 'ai', 'ai',\n",
       "       'ai', 'student', 'student', 'student', 'student', 'ai', 'student',\n",
       "       'ai', 'student', 'ai', 'ai', 'student', 'ai', 'ai', 'student',\n",
       "       'ai', 'ai', 'student', 'student', 'student', 'student', 'ai', 'ai',\n",
       "       'ai', 'student', 'student', 'ai', 'ai', 'ai', 'student', 'student',\n",
       "       'ai', 'ai', 'ai', 'student', 'ai', 'student', 'student', 'student',\n",
       "       'ai', 'ai', 'student', 'student', 'student', 'student', 'student',\n",
       "       'ai', 'ai', 'student', 'student', 'student', 'student', 'student',\n",
       "       'ai', 'ai', 'student', 'ai', 'ai', 'ai', 'ai', 'student',\n",
       "       'student', 'student', 'student', 'ai', 'ai', 'ai', 'student',\n",
       "       'student', 'ai', 'student', 'student', 'ai', 'student', 'student',\n",
       "       'student', 'student', 'ai', 'student', 'ai', 'student', 'student',\n",
       "       'ai', 'ai', 'ai', 'student', 'ai', 'student', 'ai', 'ai', 'ai',\n",
       "       'student', 'ai', 'student', 'ai', 'ai', 'ai', 'ai', 'ai',\n",
       "       'student', 'ai', 'student', 'student', 'ai', 'ai', 'student', 'ai',\n",
       "       'student', 'ai', 'student', 'student', 'ai', 'ai', 'student',\n",
       "       'student', 'ai', 'ai', 'student', 'student', 'ai', 'student',\n",
       "       'student', 'student', 'ai', 'student', 'ai', 'student', 'student',\n",
       "       'student', 'student', 'student', 'student', 'ai', 'ai', 'ai',\n",
       "       'student', 'ai', 'student', 'ai', 'student', 'ai', 'student',\n",
       "       'student', 'ai', 'student', 'ai', 'ai', 'ai', 'student', 'student',\n",
       "       'ai', 'student', 'student', 'student', 'student', 'ai', 'student',\n",
       "       'student', 'student', 'student', 'student', 'student', 'ai',\n",
       "       'student', 'ai', 'student', 'student', 'student', 'student',\n",
       "       'student', 'ai', 'student', 'ai', 'ai', 'ai', 'ai', 'student',\n",
       "       'ai', 'student', 'student', 'ai', 'student', 'student', 'student',\n",
       "       'ai', 'student', 'student', 'ai', 'ai', 'ai', 'student', 'student',\n",
       "       'ai', 'ai', 'ai', 'student', 'ai', 'student', 'student', 'student',\n",
       "       'ai', 'ai', 'student', 'ai', 'ai', 'student', 'ai', 'student',\n",
       "       'student', 'ai', 'ai', 'student', 'student', 'student', 'student',\n",
       "       'student', 'ai', 'student', 'ai', 'student', 'ai', 'ai', 'student',\n",
       "       'student', 'ai', 'student', 'student', 'student', 'student'],\n",
       "      dtype=object)"
      ]
     },
     "execution_count": 12,
     "metadata": {},
     "output_type": "execute_result"
    }
   ],
   "source": [
    "y_test_raw"
   ]
  },
  {
   "cell_type": "markdown",
   "metadata": {},
   "source": [
    "### Tratamento dos Dados"
   ]
  },
  {
   "cell_type": "code",
   "execution_count": 13,
   "metadata": {},
   "outputs": [
    {
     "name": "stderr",
     "output_type": "stream",
     "text": [
      "[nltk_data] Downloading package vader_lexicon to\n",
      "[nltk_data]     /Users/mateusoliveirasantos/nltk_data...\n",
      "[nltk_data]   Package vader_lexicon is already up-to-date!\n"
     ]
    },
    {
     "data": {
      "text/plain": [
       "True"
      ]
     },
     "execution_count": 13,
     "metadata": {},
     "output_type": "execute_result"
    }
   ],
   "source": [
    "import nltk\n",
    "\n",
    "nltk.download([\"vader_lexicon\"])"
   ]
  },
  {
   "cell_type": "code",
   "execution_count": 25,
   "metadata": {},
   "outputs": [],
   "source": [
    "from nltk.sentiment import SentimentIntensityAnalyzer\n",
    "\n",
    "import json\n",
    "\n",
    "\n",
    "class DetectAITransformer(BaseEstimator, TransformerMixin):\n",
    "    def __init__(self):\n",
    "        self.common_words: list[str] = self._load_common_words()\n",
    "        self.most_words: set[str] = self._load_most_words()\n",
    "\n",
    "        self._sia = SentimentIntensityAnalyzer()\n",
    "\n",
    "    def _load_common_words(self):\n",
    "        with open(\"words.txt\", \"r\") as words_file:\n",
    "            return words_file.read().splitlines()\n",
    "\n",
    "    def _load_most_words(self):\n",
    "        with open(\"words_dictionary.json\", \"r\") as words_file:\n",
    "            most_words: dict = json.load(words_file)\n",
    "\n",
    "        return set(most_words.keys())\n",
    "\n",
    "    def _parse_text_words(self, text: str, stop_words: set[str] = set()) -> list[str]:\n",
    "        words = (\n",
    "            text.lower()\n",
    "            .replace(\".\", \"\")\n",
    "            .replace(\",\", \"\")\n",
    "            .replace(\"!\", \"\")\n",
    "            .replace(\"?\", \"\")\n",
    "            .replace(\"-\", \" \")\n",
    "            .replace(\"'s\", \"\")\n",
    "            .replace(\"'\", \"\")\n",
    "            .split()\n",
    "        )\n",
    "\n",
    "        final_words = []\n",
    "        for word in words:\n",
    "            if word not in stop_words:\n",
    "                final_words.append(word)\n",
    "\n",
    "        return final_words\n",
    "\n",
    "    def _has_perfect_vocabulary(self, text: str):\n",
    "        local_words = self._parse_text_words(text)\n",
    "        for word in local_words:\n",
    "            if word not in self.most_words:\n",
    "                return 0\n",
    "\n",
    "        return 1\n",
    "\n",
    "    def _complexity_index(self, text: str):\n",
    "        stop_words, words = self.common_words[:30], self.common_words[30:]\n",
    "        local_words = self._parse_text_words(\n",
    "            text, stop_words=stop_words\n",
    "        )  # Ignore the 30 most common words which are mostly prepositions\n",
    "\n",
    "        words_hash = set(words)\n",
    "        words_size = len(words)\n",
    "\n",
    "        total_score = 0\n",
    "        not_appeared = 0\n",
    "        for local_word in local_words:\n",
    "            score = 0\n",
    "            if local_word in words_hash:\n",
    "                # 0 if this word is the most common of all\n",
    "                # 1 if it is the rarest\n",
    "                score = self.common_words.index(local_word) / words_size\n",
    "            else:\n",
    "                not_appeared += 1\n",
    "\n",
    "            total_score += score\n",
    "\n",
    "        # We are ignoring words which did not appear because they could be\n",
    "        # a vocabulary mistake\n",
    "        return total_score / (len(local_words) - not_appeared)\n",
    "\n",
    "    def _negativity_score(self, text: str):\n",
    "        return self._sia.polarity_scores(text)[\"neg\"]\n",
    "\n",
    "    def _transform_text(self, text: str):\n",
    "        return np.array(\n",
    "            [\n",
    "                self._has_perfect_vocabulary(text),\n",
    "                self._complexity_index(text),\n",
    "                self._negativity_score(text),\n",
    "            ]\n",
    "        )\n",
    "\n",
    "    def fit(self, X, y=None):\n",
    "        return self\n",
    "\n",
    "    def transform(self, X, y=None):\n",
    "        return np.array([self._transform_text(x) for x in X])"
   ]
  },
  {
   "cell_type": "markdown",
   "metadata": {},
   "source": [
    "Isso será necessário porque o LDA não aceita matrizes \"sparse\"; precisamos convertê-las em \"dense\" antes."
   ]
  },
  {
   "cell_type": "code",
   "execution_count": 15,
   "metadata": {},
   "outputs": [],
   "source": [
    "class ToDenseTransformer(BaseEstimator, TransformerMixin):\n",
    "    def fit(self, X, y=None):\n",
    "        return self\n",
    "    \n",
    "    def transform(self, X, y=None):\n",
    "        return X.toarray()"
   ]
  },
  {
   "cell_type": "code",
   "execution_count": 26,
   "metadata": {},
   "outputs": [
    {
     "data": {
      "text/html": [
       "<style>#sk-container-id-5 {\n",
       "  /* Definition of color scheme common for light and dark mode */\n",
       "  --sklearn-color-text: black;\n",
       "  --sklearn-color-line: gray;\n",
       "  /* Definition of color scheme for unfitted estimators */\n",
       "  --sklearn-color-unfitted-level-0: #fff5e6;\n",
       "  --sklearn-color-unfitted-level-1: #f6e4d2;\n",
       "  --sklearn-color-unfitted-level-2: #ffe0b3;\n",
       "  --sklearn-color-unfitted-level-3: chocolate;\n",
       "  /* Definition of color scheme for fitted estimators */\n",
       "  --sklearn-color-fitted-level-0: #f0f8ff;\n",
       "  --sklearn-color-fitted-level-1: #d4ebff;\n",
       "  --sklearn-color-fitted-level-2: #b3dbfd;\n",
       "  --sklearn-color-fitted-level-3: cornflowerblue;\n",
       "\n",
       "  /* Specific color for light theme */\n",
       "  --sklearn-color-text-on-default-background: var(--sg-text-color, var(--theme-code-foreground, var(--jp-content-font-color1, black)));\n",
       "  --sklearn-color-background: var(--sg-background-color, var(--theme-background, var(--jp-layout-color0, white)));\n",
       "  --sklearn-color-border-box: var(--sg-text-color, var(--theme-code-foreground, var(--jp-content-font-color1, black)));\n",
       "  --sklearn-color-icon: #696969;\n",
       "\n",
       "  @media (prefers-color-scheme: dark) {\n",
       "    /* Redefinition of color scheme for dark theme */\n",
       "    --sklearn-color-text-on-default-background: var(--sg-text-color, var(--theme-code-foreground, var(--jp-content-font-color1, white)));\n",
       "    --sklearn-color-background: var(--sg-background-color, var(--theme-background, var(--jp-layout-color0, #111)));\n",
       "    --sklearn-color-border-box: var(--sg-text-color, var(--theme-code-foreground, var(--jp-content-font-color1, white)));\n",
       "    --sklearn-color-icon: #878787;\n",
       "  }\n",
       "}\n",
       "\n",
       "#sk-container-id-5 {\n",
       "  color: var(--sklearn-color-text);\n",
       "}\n",
       "\n",
       "#sk-container-id-5 pre {\n",
       "  padding: 0;\n",
       "}\n",
       "\n",
       "#sk-container-id-5 input.sk-hidden--visually {\n",
       "  border: 0;\n",
       "  clip: rect(1px 1px 1px 1px);\n",
       "  clip: rect(1px, 1px, 1px, 1px);\n",
       "  height: 1px;\n",
       "  margin: -1px;\n",
       "  overflow: hidden;\n",
       "  padding: 0;\n",
       "  position: absolute;\n",
       "  width: 1px;\n",
       "}\n",
       "\n",
       "#sk-container-id-5 div.sk-dashed-wrapped {\n",
       "  border: 1px dashed var(--sklearn-color-line);\n",
       "  margin: 0 0.4em 0.5em 0.4em;\n",
       "  box-sizing: border-box;\n",
       "  padding-bottom: 0.4em;\n",
       "  background-color: var(--sklearn-color-background);\n",
       "}\n",
       "\n",
       "#sk-container-id-5 div.sk-container {\n",
       "  /* jupyter's `normalize.less` sets `[hidden] { display: none; }`\n",
       "     but bootstrap.min.css set `[hidden] { display: none !important; }`\n",
       "     so we also need the `!important` here to be able to override the\n",
       "     default hidden behavior on the sphinx rendered scikit-learn.org.\n",
       "     See: https://github.com/scikit-learn/scikit-learn/issues/21755 */\n",
       "  display: inline-block !important;\n",
       "  position: relative;\n",
       "}\n",
       "\n",
       "#sk-container-id-5 div.sk-text-repr-fallback {\n",
       "  display: none;\n",
       "}\n",
       "\n",
       "div.sk-parallel-item,\n",
       "div.sk-serial,\n",
       "div.sk-item {\n",
       "  /* draw centered vertical line to link estimators */\n",
       "  background-image: linear-gradient(var(--sklearn-color-text-on-default-background), var(--sklearn-color-text-on-default-background));\n",
       "  background-size: 2px 100%;\n",
       "  background-repeat: no-repeat;\n",
       "  background-position: center center;\n",
       "}\n",
       "\n",
       "/* Parallel-specific style estimator block */\n",
       "\n",
       "#sk-container-id-5 div.sk-parallel-item::after {\n",
       "  content: \"\";\n",
       "  width: 100%;\n",
       "  border-bottom: 2px solid var(--sklearn-color-text-on-default-background);\n",
       "  flex-grow: 1;\n",
       "}\n",
       "\n",
       "#sk-container-id-5 div.sk-parallel {\n",
       "  display: flex;\n",
       "  align-items: stretch;\n",
       "  justify-content: center;\n",
       "  background-color: var(--sklearn-color-background);\n",
       "  position: relative;\n",
       "}\n",
       "\n",
       "#sk-container-id-5 div.sk-parallel-item {\n",
       "  display: flex;\n",
       "  flex-direction: column;\n",
       "}\n",
       "\n",
       "#sk-container-id-5 div.sk-parallel-item:first-child::after {\n",
       "  align-self: flex-end;\n",
       "  width: 50%;\n",
       "}\n",
       "\n",
       "#sk-container-id-5 div.sk-parallel-item:last-child::after {\n",
       "  align-self: flex-start;\n",
       "  width: 50%;\n",
       "}\n",
       "\n",
       "#sk-container-id-5 div.sk-parallel-item:only-child::after {\n",
       "  width: 0;\n",
       "}\n",
       "\n",
       "/* Serial-specific style estimator block */\n",
       "\n",
       "#sk-container-id-5 div.sk-serial {\n",
       "  display: flex;\n",
       "  flex-direction: column;\n",
       "  align-items: center;\n",
       "  background-color: var(--sklearn-color-background);\n",
       "  padding-right: 1em;\n",
       "  padding-left: 1em;\n",
       "}\n",
       "\n",
       "\n",
       "/* Toggleable style: style used for estimator/Pipeline/ColumnTransformer box that is\n",
       "clickable and can be expanded/collapsed.\n",
       "- Pipeline and ColumnTransformer use this feature and define the default style\n",
       "- Estimators will overwrite some part of the style using the `sk-estimator` class\n",
       "*/\n",
       "\n",
       "/* Pipeline and ColumnTransformer style (default) */\n",
       "\n",
       "#sk-container-id-5 div.sk-toggleable {\n",
       "  /* Default theme specific background. It is overwritten whether we have a\n",
       "  specific estimator or a Pipeline/ColumnTransformer */\n",
       "  background-color: var(--sklearn-color-background);\n",
       "}\n",
       "\n",
       "/* Toggleable label */\n",
       "#sk-container-id-5 label.sk-toggleable__label {\n",
       "  cursor: pointer;\n",
       "  display: block;\n",
       "  width: 100%;\n",
       "  margin-bottom: 0;\n",
       "  padding: 0.5em;\n",
       "  box-sizing: border-box;\n",
       "  text-align: center;\n",
       "}\n",
       "\n",
       "#sk-container-id-5 label.sk-toggleable__label-arrow:before {\n",
       "  /* Arrow on the left of the label */\n",
       "  content: \"▸\";\n",
       "  float: left;\n",
       "  margin-right: 0.25em;\n",
       "  color: var(--sklearn-color-icon);\n",
       "}\n",
       "\n",
       "#sk-container-id-5 label.sk-toggleable__label-arrow:hover:before {\n",
       "  color: var(--sklearn-color-text);\n",
       "}\n",
       "\n",
       "/* Toggleable content - dropdown */\n",
       "\n",
       "#sk-container-id-5 div.sk-toggleable__content {\n",
       "  max-height: 0;\n",
       "  max-width: 0;\n",
       "  overflow: hidden;\n",
       "  text-align: left;\n",
       "  /* unfitted */\n",
       "  background-color: var(--sklearn-color-unfitted-level-0);\n",
       "}\n",
       "\n",
       "#sk-container-id-5 div.sk-toggleable__content.fitted {\n",
       "  /* fitted */\n",
       "  background-color: var(--sklearn-color-fitted-level-0);\n",
       "}\n",
       "\n",
       "#sk-container-id-5 div.sk-toggleable__content pre {\n",
       "  margin: 0.2em;\n",
       "  border-radius: 0.25em;\n",
       "  color: var(--sklearn-color-text);\n",
       "  /* unfitted */\n",
       "  background-color: var(--sklearn-color-unfitted-level-0);\n",
       "}\n",
       "\n",
       "#sk-container-id-5 div.sk-toggleable__content.fitted pre {\n",
       "  /* unfitted */\n",
       "  background-color: var(--sklearn-color-fitted-level-0);\n",
       "}\n",
       "\n",
       "#sk-container-id-5 input.sk-toggleable__control:checked~div.sk-toggleable__content {\n",
       "  /* Expand drop-down */\n",
       "  max-height: 200px;\n",
       "  max-width: 100%;\n",
       "  overflow: auto;\n",
       "}\n",
       "\n",
       "#sk-container-id-5 input.sk-toggleable__control:checked~label.sk-toggleable__label-arrow:before {\n",
       "  content: \"▾\";\n",
       "}\n",
       "\n",
       "/* Pipeline/ColumnTransformer-specific style */\n",
       "\n",
       "#sk-container-id-5 div.sk-label input.sk-toggleable__control:checked~label.sk-toggleable__label {\n",
       "  color: var(--sklearn-color-text);\n",
       "  background-color: var(--sklearn-color-unfitted-level-2);\n",
       "}\n",
       "\n",
       "#sk-container-id-5 div.sk-label.fitted input.sk-toggleable__control:checked~label.sk-toggleable__label {\n",
       "  background-color: var(--sklearn-color-fitted-level-2);\n",
       "}\n",
       "\n",
       "/* Estimator-specific style */\n",
       "\n",
       "/* Colorize estimator box */\n",
       "#sk-container-id-5 div.sk-estimator input.sk-toggleable__control:checked~label.sk-toggleable__label {\n",
       "  /* unfitted */\n",
       "  background-color: var(--sklearn-color-unfitted-level-2);\n",
       "}\n",
       "\n",
       "#sk-container-id-5 div.sk-estimator.fitted input.sk-toggleable__control:checked~label.sk-toggleable__label {\n",
       "  /* fitted */\n",
       "  background-color: var(--sklearn-color-fitted-level-2);\n",
       "}\n",
       "\n",
       "#sk-container-id-5 div.sk-label label.sk-toggleable__label,\n",
       "#sk-container-id-5 div.sk-label label {\n",
       "  /* The background is the default theme color */\n",
       "  color: var(--sklearn-color-text-on-default-background);\n",
       "}\n",
       "\n",
       "/* On hover, darken the color of the background */\n",
       "#sk-container-id-5 div.sk-label:hover label.sk-toggleable__label {\n",
       "  color: var(--sklearn-color-text);\n",
       "  background-color: var(--sklearn-color-unfitted-level-2);\n",
       "}\n",
       "\n",
       "/* Label box, darken color on hover, fitted */\n",
       "#sk-container-id-5 div.sk-label.fitted:hover label.sk-toggleable__label.fitted {\n",
       "  color: var(--sklearn-color-text);\n",
       "  background-color: var(--sklearn-color-fitted-level-2);\n",
       "}\n",
       "\n",
       "/* Estimator label */\n",
       "\n",
       "#sk-container-id-5 div.sk-label label {\n",
       "  font-family: monospace;\n",
       "  font-weight: bold;\n",
       "  display: inline-block;\n",
       "  line-height: 1.2em;\n",
       "}\n",
       "\n",
       "#sk-container-id-5 div.sk-label-container {\n",
       "  text-align: center;\n",
       "}\n",
       "\n",
       "/* Estimator-specific */\n",
       "#sk-container-id-5 div.sk-estimator {\n",
       "  font-family: monospace;\n",
       "  border: 1px dotted var(--sklearn-color-border-box);\n",
       "  border-radius: 0.25em;\n",
       "  box-sizing: border-box;\n",
       "  margin-bottom: 0.5em;\n",
       "  /* unfitted */\n",
       "  background-color: var(--sklearn-color-unfitted-level-0);\n",
       "}\n",
       "\n",
       "#sk-container-id-5 div.sk-estimator.fitted {\n",
       "  /* fitted */\n",
       "  background-color: var(--sklearn-color-fitted-level-0);\n",
       "}\n",
       "\n",
       "/* on hover */\n",
       "#sk-container-id-5 div.sk-estimator:hover {\n",
       "  /* unfitted */\n",
       "  background-color: var(--sklearn-color-unfitted-level-2);\n",
       "}\n",
       "\n",
       "#sk-container-id-5 div.sk-estimator.fitted:hover {\n",
       "  /* fitted */\n",
       "  background-color: var(--sklearn-color-fitted-level-2);\n",
       "}\n",
       "\n",
       "/* Specification for estimator info (e.g. \"i\" and \"?\") */\n",
       "\n",
       "/* Common style for \"i\" and \"?\" */\n",
       "\n",
       ".sk-estimator-doc-link,\n",
       "a:link.sk-estimator-doc-link,\n",
       "a:visited.sk-estimator-doc-link {\n",
       "  float: right;\n",
       "  font-size: smaller;\n",
       "  line-height: 1em;\n",
       "  font-family: monospace;\n",
       "  background-color: var(--sklearn-color-background);\n",
       "  border-radius: 1em;\n",
       "  height: 1em;\n",
       "  width: 1em;\n",
       "  text-decoration: none !important;\n",
       "  margin-left: 1ex;\n",
       "  /* unfitted */\n",
       "  border: var(--sklearn-color-unfitted-level-1) 1pt solid;\n",
       "  color: var(--sklearn-color-unfitted-level-1);\n",
       "}\n",
       "\n",
       ".sk-estimator-doc-link.fitted,\n",
       "a:link.sk-estimator-doc-link.fitted,\n",
       "a:visited.sk-estimator-doc-link.fitted {\n",
       "  /* fitted */\n",
       "  border: var(--sklearn-color-fitted-level-1) 1pt solid;\n",
       "  color: var(--sklearn-color-fitted-level-1);\n",
       "}\n",
       "\n",
       "/* On hover */\n",
       "div.sk-estimator:hover .sk-estimator-doc-link:hover,\n",
       ".sk-estimator-doc-link:hover,\n",
       "div.sk-label-container:hover .sk-estimator-doc-link:hover,\n",
       ".sk-estimator-doc-link:hover {\n",
       "  /* unfitted */\n",
       "  background-color: var(--sklearn-color-unfitted-level-3);\n",
       "  color: var(--sklearn-color-background);\n",
       "  text-decoration: none;\n",
       "}\n",
       "\n",
       "div.sk-estimator.fitted:hover .sk-estimator-doc-link.fitted:hover,\n",
       ".sk-estimator-doc-link.fitted:hover,\n",
       "div.sk-label-container:hover .sk-estimator-doc-link.fitted:hover,\n",
       ".sk-estimator-doc-link.fitted:hover {\n",
       "  /* fitted */\n",
       "  background-color: var(--sklearn-color-fitted-level-3);\n",
       "  color: var(--sklearn-color-background);\n",
       "  text-decoration: none;\n",
       "}\n",
       "\n",
       "/* Span, style for the box shown on hovering the info icon */\n",
       ".sk-estimator-doc-link span {\n",
       "  display: none;\n",
       "  z-index: 9999;\n",
       "  position: relative;\n",
       "  font-weight: normal;\n",
       "  right: .2ex;\n",
       "  padding: .5ex;\n",
       "  margin: .5ex;\n",
       "  width: min-content;\n",
       "  min-width: 20ex;\n",
       "  max-width: 50ex;\n",
       "  color: var(--sklearn-color-text);\n",
       "  box-shadow: 2pt 2pt 4pt #999;\n",
       "  /* unfitted */\n",
       "  background: var(--sklearn-color-unfitted-level-0);\n",
       "  border: .5pt solid var(--sklearn-color-unfitted-level-3);\n",
       "}\n",
       "\n",
       ".sk-estimator-doc-link.fitted span {\n",
       "  /* fitted */\n",
       "  background: var(--sklearn-color-fitted-level-0);\n",
       "  border: var(--sklearn-color-fitted-level-3);\n",
       "}\n",
       "\n",
       ".sk-estimator-doc-link:hover span {\n",
       "  display: block;\n",
       "}\n",
       "\n",
       "/* \"?\"-specific style due to the `<a>` HTML tag */\n",
       "\n",
       "#sk-container-id-5 a.estimator_doc_link {\n",
       "  float: right;\n",
       "  font-size: 1rem;\n",
       "  line-height: 1em;\n",
       "  font-family: monospace;\n",
       "  background-color: var(--sklearn-color-background);\n",
       "  border-radius: 1rem;\n",
       "  height: 1rem;\n",
       "  width: 1rem;\n",
       "  text-decoration: none;\n",
       "  /* unfitted */\n",
       "  color: var(--sklearn-color-unfitted-level-1);\n",
       "  border: var(--sklearn-color-unfitted-level-1) 1pt solid;\n",
       "}\n",
       "\n",
       "#sk-container-id-5 a.estimator_doc_link.fitted {\n",
       "  /* fitted */\n",
       "  border: var(--sklearn-color-fitted-level-1) 1pt solid;\n",
       "  color: var(--sklearn-color-fitted-level-1);\n",
       "}\n",
       "\n",
       "/* On hover */\n",
       "#sk-container-id-5 a.estimator_doc_link:hover {\n",
       "  /* unfitted */\n",
       "  background-color: var(--sklearn-color-unfitted-level-3);\n",
       "  color: var(--sklearn-color-background);\n",
       "  text-decoration: none;\n",
       "}\n",
       "\n",
       "#sk-container-id-5 a.estimator_doc_link.fitted:hover {\n",
       "  /* fitted */\n",
       "  background-color: var(--sklearn-color-fitted-level-3);\n",
       "}\n",
       "</style><div id=\"sk-container-id-5\" class=\"sk-top-container\"><div class=\"sk-text-repr-fallback\"><pre>Pipeline(steps=[(&#x27;vectorize_text&#x27;, DetectAITransformer())])</pre><b>In a Jupyter environment, please rerun this cell to show the HTML representation or trust the notebook. <br />On GitHub, the HTML representation is unable to render, please try loading this page with nbviewer.org.</b></div><div class=\"sk-container\" hidden><div class=\"sk-item sk-dashed-wrapped\"><div class=\"sk-label-container\"><div class=\"sk-label  sk-toggleable\"><input class=\"sk-toggleable__control sk-hidden--visually\" id=\"sk-estimator-id-10\" type=\"checkbox\" ><label for=\"sk-estimator-id-10\" class=\"sk-toggleable__label  sk-toggleable__label-arrow \">&nbsp;&nbsp;Pipeline<a class=\"sk-estimator-doc-link \" rel=\"noreferrer\" target=\"_blank\" href=\"https://scikit-learn.org/1.5/modules/generated/sklearn.pipeline.Pipeline.html\">?<span>Documentation for Pipeline</span></a><span class=\"sk-estimator-doc-link \">i<span>Not fitted</span></span></label><div class=\"sk-toggleable__content \"><pre>Pipeline(steps=[(&#x27;vectorize_text&#x27;, DetectAITransformer())])</pre></div> </div></div><div class=\"sk-serial\"><div class=\"sk-item\"><div class=\"sk-estimator  sk-toggleable\"><input class=\"sk-toggleable__control sk-hidden--visually\" id=\"sk-estimator-id-11\" type=\"checkbox\" ><label for=\"sk-estimator-id-11\" class=\"sk-toggleable__label  sk-toggleable__label-arrow \">DetectAITransformer</label><div class=\"sk-toggleable__content \"><pre>DetectAITransformer()</pre></div> </div></div></div></div></div></div>"
      ],
      "text/plain": [
       "Pipeline(steps=[('vectorize_text', DetectAITransformer())])"
      ]
     },
     "execution_count": 26,
     "metadata": {},
     "output_type": "execute_result"
    }
   ],
   "source": [
    "text_pipeline = Pipeline([(\"vectorize_text\", DetectAITransformer())])\n",
    "text_pipeline"
   ]
  },
  {
   "cell_type": "code",
   "execution_count": 27,
   "metadata": {},
   "outputs": [
    {
     "data": {
      "text/plain": [
       "array([[1.        , 0.25399432, 0.483     ],\n",
       "       [1.        , 0.20960057, 0.26      ],\n",
       "       [1.        , 0.26807921, 0.        ],\n",
       "       ...,\n",
       "       [1.        , 0.34106346, 0.259     ],\n",
       "       [1.        , 0.16204669, 0.26      ],\n",
       "       [1.        , 0.38498581, 0.        ]])"
      ]
     },
     "execution_count": 27,
     "metadata": {},
     "output_type": "execute_result"
    }
   ],
   "source": [
    "x_train = text_pipeline.fit_transform(x_train_raw)\n",
    "x_train"
   ]
  },
  {
   "cell_type": "code",
   "execution_count": 28,
   "metadata": {},
   "outputs": [
    {
     "data": {
      "text/plain": [
       "array([[1.        , 0.3919708 , 0.        ],\n",
       "       [1.        , 0.17816752, 0.        ],\n",
       "       [1.        , 0.14997719, 0.304     ],\n",
       "       [1.        , 0.12019175, 0.        ],\n",
       "       [1.        , 0.20547445, 0.        ],\n",
       "       [1.        , 0.12465531, 0.        ],\n",
       "       [1.        , 0.1312179 , 0.        ],\n",
       "       [1.        , 0.14997719, 0.304     ],\n",
       "       [1.        , 0.08846563, 0.232     ],\n",
       "       [0.        , 0.08336713, 0.273     ],\n",
       "       [1.        , 0.30388281, 0.        ],\n",
       "       [0.        , 0.11646729, 0.495     ],\n",
       "       [1.        , 0.16436392, 0.        ],\n",
       "       [0.        , 0.12104623, 0.        ],\n",
       "       [1.        , 0.19273549, 0.        ],\n",
       "       [1.        , 0.16887447, 0.226     ],\n",
       "       [1.        , 0.18917275, 0.26      ],\n",
       "       [1.        , 0.09801072, 0.        ],\n",
       "       [1.        , 0.1913017 , 0.364     ],\n",
       "       [1.        , 0.31527102, 0.        ],\n",
       "       [1.        , 0.11154197, 0.        ],\n",
       "       [1.        , 0.34392741, 0.        ],\n",
       "       [1.        , 0.11221501, 0.226     ],\n",
       "       [1.        , 0.22806164, 0.        ],\n",
       "       [1.        , 0.16419303, 0.451     ],\n",
       "       [1.        , 0.12636137, 0.247     ],\n",
       "       [1.        , 0.12171786, 0.        ],\n",
       "       [1.        , 0.23496215, 0.        ],\n",
       "       [1.        , 0.19430927, 0.        ],\n",
       "       [1.        , 0.2982418 , 0.445     ],\n",
       "       [1.        , 0.07820103, 0.        ],\n",
       "       [0.        , 0.07351987, 0.        ],\n",
       "       [1.        , 0.11254309, 0.        ],\n",
       "       [1.        , 0.08986212, 0.        ],\n",
       "       [1.        , 0.09203923, 0.193     ],\n",
       "       [1.        , 0.33923865, 0.        ],\n",
       "       [1.        , 0.18400243, 0.        ],\n",
       "       [1.        , 0.5591545 , 0.        ],\n",
       "       [1.        , 0.08912459, 0.247     ],\n",
       "       [1.        , 0.26501854, 0.227     ],\n",
       "       [1.        , 0.17222802, 0.5       ],\n",
       "       [1.        , 0.14997719, 0.304     ],\n",
       "       [1.        , 0.11999189, 0.26      ],\n",
       "       [1.        , 0.08091151, 0.203     ],\n",
       "       [1.        , 0.16749218, 0.        ],\n",
       "       [1.        , 0.29280211, 0.        ],\n",
       "       [1.        , 0.20975264, 0.        ],\n",
       "       [1.        , 0.36080697, 0.        ],\n",
       "       [0.        , 0.19443177, 0.        ],\n",
       "       [1.        , 0.12005779, 0.        ],\n",
       "       [1.        , 0.24566968, 0.        ],\n",
       "       [1.        , 0.18917275, 0.26      ],\n",
       "       [1.        , 0.1285032 , 0.        ],\n",
       "       [1.        , 0.15310726, 0.        ],\n",
       "       [1.        , 0.14997719, 0.304     ],\n",
       "       [1.        , 0.14997719, 0.304     ],\n",
       "       [1.        , 0.12171786, 0.        ],\n",
       "       [1.        , 0.07764164, 0.247     ],\n",
       "       [1.        , 0.10682786, 0.297     ],\n",
       "       [1.        , 0.11871452, 0.116     ],\n",
       "       [1.        , 0.24296431, 0.6       ],\n",
       "       [1.        , 0.20840092, 0.717     ],\n",
       "       [1.        , 0.17344456, 0.        ],\n",
       "       [1.        , 0.19547513, 0.        ],\n",
       "       [1.        , 0.21002298, 0.        ],\n",
       "       [1.        , 0.15154096, 0.        ],\n",
       "       [1.        , 0.19109895, 0.        ],\n",
       "       [1.        , 0.29631319, 0.        ],\n",
       "       [1.        , 0.0641322 , 0.        ],\n",
       "       [1.        , 0.06766018, 0.        ],\n",
       "       [1.        , 0.11551545, 0.247     ],\n",
       "       [1.        , 0.07145512, 0.        ],\n",
       "       [1.        , 0.1397675 , 0.        ],\n",
       "       [1.        , 0.0979898 , 0.        ],\n",
       "       [0.        , 0.07351987, 0.        ],\n",
       "       [1.        , 0.10039031, 0.        ],\n",
       "       [1.        , 0.39712084, 0.149     ],\n",
       "       [1.        , 0.09588402, 0.        ],\n",
       "       [1.        , 0.14997719, 0.304     ],\n",
       "       [1.        , 0.23443836, 0.        ],\n",
       "       [1.        , 0.10039031, 0.        ],\n",
       "       [1.        , 0.06461628, 0.        ],\n",
       "       [1.        , 0.14628954, 0.        ],\n",
       "       [1.        , 0.15864085, 0.        ],\n",
       "       [1.        , 0.13549994, 0.        ],\n",
       "       [1.        , 0.1913017 , 0.364     ],\n",
       "       [1.        , 0.09016916, 0.35      ],\n",
       "       [1.        , 0.09962152, 0.        ],\n",
       "       [1.        , 0.29974317, 0.38      ],\n",
       "       [1.        , 0.13493512, 0.        ],\n",
       "       [1.        , 0.11646729, 0.495     ],\n",
       "       [1.        , 0.256691  , 0.273     ],\n",
       "       [1.        , 0.256691  , 0.273     ],\n",
       "       [1.        , 0.37136726, 0.        ],\n",
       "       [1.        , 0.20406275, 0.        ],\n",
       "       [1.        , 0.16335496, 0.232     ],\n",
       "       [1.        , 0.11558445, 0.        ],\n",
       "       [1.        , 0.18466703, 0.226     ],\n",
       "       [1.        , 0.12744576, 0.        ],\n",
       "       [1.        , 0.24561175, 0.        ],\n",
       "       [1.        , 0.48742903, 0.        ],\n",
       "       [1.        , 0.11100973, 0.        ],\n",
       "       [1.        , 0.18510312, 0.        ],\n",
       "       [1.        , 0.08752366, 0.226     ],\n",
       "       [1.        , 0.08663828, 0.        ],\n",
       "       [0.        , 0.06514852, 0.226     ],\n",
       "       [1.        , 0.06461628, 0.        ],\n",
       "       [1.        , 0.35863747, 0.        ],\n",
       "       [1.        , 0.10221231, 0.        ],\n",
       "       [1.        , 0.21551095, 0.        ],\n",
       "       [1.        , 0.1593674 , 0.        ],\n",
       "       [1.        , 0.37712895, 0.        ],\n",
       "       [1.        , 0.44915856, 0.        ],\n",
       "       [1.        , 0.14997719, 0.304     ],\n",
       "       [0.        , 0.13748986, 0.        ],\n",
       "       [1.        , 0.08986212, 0.        ],\n",
       "       [1.        , 0.29143012, 0.        ],\n",
       "       [1.        , 0.31988375, 0.        ],\n",
       "       [1.        , 0.10915112, 0.        ],\n",
       "       [1.        , 0.14560523, 0.495     ],\n",
       "       [1.        , 0.1913017 , 0.364     ],\n",
       "       [1.        , 0.16416599, 0.191     ],\n",
       "       [1.        , 0.11958637, 0.        ],\n",
       "       [1.        , 0.31716342, 0.        ],\n",
       "       [1.        , 0.3458232 , 0.        ],\n",
       "       [1.        , 0.18746379, 0.        ],\n",
       "       [1.        , 0.28919303, 0.25      ],\n",
       "       [1.        , 0.16670046, 0.        ],\n",
       "       [1.        , 0.22490876, 0.        ],\n",
       "       [1.        , 0.23951744, 0.        ],\n",
       "       [1.        , 0.33231955, 0.        ],\n",
       "       [1.        , 0.10301348, 0.226     ],\n",
       "       [1.        , 0.14997719, 0.304     ],\n",
       "       [1.        , 0.11100973, 0.        ],\n",
       "       [1.        , 0.20991195, 0.        ],\n",
       "       [1.        , 0.31283793, 0.        ],\n",
       "       [1.        , 0.06461628, 0.        ],\n",
       "       [1.        , 0.37339242, 0.        ],\n",
       "       [1.        , 0.30886726, 0.25      ],\n",
       "       [1.        , 0.26019581, 0.238     ],\n",
       "       [1.        , 0.1285032 , 0.        ],\n",
       "       [1.        , 0.17590662, 0.        ],\n",
       "       [1.        , 0.21954582, 0.139     ],\n",
       "       [1.        , 0.16060422, 0.45      ],\n",
       "       [1.        , 0.07495269, 0.226     ],\n",
       "       [1.        , 0.24296431, 0.6       ],\n",
       "       [1.        , 0.06461628, 0.        ],\n",
       "       [1.        , 0.26784266, 0.335     ],\n",
       "       [1.        , 0.13655718, 0.        ],\n",
       "       [1.        , 0.1574243 , 0.19      ],\n",
       "       [1.        , 0.07035685, 0.247     ],\n",
       "       [1.        , 0.0979927 , 0.305     ],\n",
       "       [1.        , 0.14997719, 0.304     ],\n",
       "       [1.        , 0.06461628, 0.        ],\n",
       "       [1.        , 0.28919303, 0.25      ],\n",
       "       [1.        , 0.29141322, 0.        ],\n",
       "       [1.        , 0.17981211, 0.197     ],\n",
       "       [0.        , 0.11646729, 0.495     ],\n",
       "       [1.        , 0.15419708, 0.        ],\n",
       "       [1.        , 0.17928832, 0.        ],\n",
       "       [1.        , 0.30474453, 0.        ],\n",
       "       [1.        , 0.09021019, 0.        ],\n",
       "       [1.        , 0.14549118, 0.226     ],\n",
       "       [1.        , 0.0821813 , 0.203     ],\n",
       "       [1.        , 0.09323949, 0.        ],\n",
       "       [1.        , 0.17755474, 0.451     ],\n",
       "       [1.        , 0.15820154, 0.        ],\n",
       "       [1.        , 0.24239659, 0.        ],\n",
       "       [1.        , 0.29974317, 0.38      ],\n",
       "       [1.        , 0.14988285, 0.412     ],\n",
       "       [1.        , 0.27136557, 0.332     ],\n",
       "       [1.        , 0.38328771, 0.        ],\n",
       "       [0.        , 0.08740297, 0.21      ],\n",
       "       [1.        , 0.20728575, 0.232     ],\n",
       "       [1.        , 0.12256691, 0.        ],\n",
       "       [1.        , 0.10286142, 0.        ],\n",
       "       [1.        , 0.29138281, 0.345     ],\n",
       "       [1.        , 0.2917246 , 0.        ],\n",
       "       [1.        , 0.1974047 , 0.        ],\n",
       "       [1.        , 0.39172749, 0.        ],\n",
       "       [0.        , 0.0917351 , 0.226     ],\n",
       "       [0.        , 0.47536496, 0.        ],\n",
       "       [1.        , 0.45673662, 0.        ],\n",
       "       [1.        , 0.10286142, 0.        ],\n",
       "       [1.        , 0.31696791, 0.        ],\n",
       "       [1.        , 0.22976227, 0.        ],\n",
       "       [1.        , 0.18807207, 0.        ],\n",
       "       [1.        , 0.14299473, 0.179     ],\n",
       "       [1.        , 0.16218911, 0.        ],\n",
       "       [1.        , 0.11481707, 0.226     ],\n",
       "       [1.        , 0.1264531 , 0.        ],\n",
       "       [1.        , 0.07145512, 0.        ],\n",
       "       [1.        , 0.28290754, 0.        ],\n",
       "       [1.        , 0.14997719, 0.304     ],\n",
       "       [1.        , 0.09514396, 0.        ],\n",
       "       [1.        , 0.20960057, 0.26      ],\n",
       "       [1.        , 0.20547445, 0.        ],\n",
       "       [1.        , 0.33231955, 0.        ],\n",
       "       [1.        , 0.18782586, 0.        ],\n",
       "       [1.        , 0.24934104, 0.        ],\n",
       "       [1.        , 0.22065809, 0.        ],\n",
       "       [1.        , 0.0631139 , 0.208     ],\n",
       "       [1.        , 0.03188362, 0.        ],\n",
       "       [1.        , 0.21017505, 0.424     ],\n",
       "       [1.        , 0.11265714, 0.209     ],\n",
       "       [0.        , 0.19566099, 0.        ],\n",
       "       [1.        , 0.31716342, 0.        ],\n",
       "       [1.        , 0.29143012, 0.        ],\n",
       "       [1.        , 0.32946067, 0.        ],\n",
       "       [1.        , 0.14916616, 0.203     ],\n",
       "       [1.        , 0.38012687, 0.259     ],\n",
       "       [1.        , 0.11254309, 0.        ],\n",
       "       [1.        , 0.28919303, 0.25      ],\n",
       "       [1.        , 0.23621249, 0.        ],\n",
       "       [1.        , 0.16421668, 0.        ],\n",
       "       [1.        , 0.17515714, 0.        ],\n",
       "       [1.        , 0.29143012, 0.        ],\n",
       "       [1.        , 0.24989862, 0.        ],\n",
       "       [1.        , 0.05286902, 0.        ],\n",
       "       [1.        , 0.11406123, 0.226     ],\n",
       "       [1.        , 0.06461628, 0.        ],\n",
       "       [1.        , 0.12599689, 0.        ],\n",
       "       [1.        , 0.07607208, 0.19      ],\n",
       "       [0.        , 0.12243174, 0.346     ],\n",
       "       [1.        , 0.14095026, 0.        ],\n",
       "       [1.        , 0.15969688, 0.        ],\n",
       "       [1.        , 0.14095026, 0.        ],\n",
       "       [1.        , 0.45830799, 0.        ],\n",
       "       [1.        , 0.11265714, 0.209     ],\n",
       "       [1.        , 0.14753143, 0.247     ],\n",
       "       [1.        , 0.15605569, 0.241     ],\n",
       "       [1.        , 0.28919303, 0.25      ],\n",
       "       [1.        , 0.17145174, 0.305     ],\n",
       "       [1.        , 0.22348222, 0.273     ],\n",
       "       [1.        , 0.07145512, 0.        ],\n",
       "       [1.        , 0.40864085, 0.        ],\n",
       "       [1.        , 0.21238848, 0.        ],\n",
       "       [1.        , 0.11551545, 0.247     ],\n",
       "       [1.        , 0.32349959, 0.        ],\n",
       "       [1.        , 0.23443836, 0.        ],\n",
       "       [0.        , 0.12005779, 0.        ],\n",
       "       [1.        , 0.15716241, 0.26      ],\n",
       "       [1.        , 0.3515984 , 0.        ],\n",
       "       [1.        , 0.08565491, 0.226     ],\n",
       "       [1.        , 0.23443836, 0.        ],\n",
       "       [1.        , 0.39778994, 0.        ],\n",
       "       [1.        , 0.15962084, 0.        ],\n",
       "       [1.        , 0.21493422, 0.        ],\n",
       "       [1.        , 0.19408962, 0.        ],\n",
       "       [0.        , 0.35500811, 0.        ],\n",
       "       [1.        , 0.14997719, 0.304     ],\n",
       "       [1.        , 0.11646729, 0.495     ],\n",
       "       [1.        , 0.15009848, 0.        ],\n",
       "       [1.        , 0.11958637, 0.        ],\n",
       "       [1.        , 0.14944918, 0.        ],\n",
       "       [1.        , 0.12140105, 0.215     ],\n",
       "       [1.        , 0.11265714, 0.209     ],\n",
       "       [1.        , 0.18295485, 0.        ],\n",
       "       [1.        , 0.14944918, 0.        ],\n",
       "       [1.        , 0.14560523, 0.495     ],\n",
       "       [1.        , 0.14997719, 0.304     ],\n",
       "       [1.        , 0.14997719, 0.304     ],\n",
       "       [1.        , 0.20840092, 0.717     ],\n",
       "       [1.        , 0.13504917, 0.226     ],\n",
       "       [1.        , 0.12595296, 0.        ],\n",
       "       [1.        , 0.13165045, 0.226     ],\n",
       "       [1.        , 0.37637875, 0.        ],\n",
       "       [1.        , 0.07040191, 0.226     ],\n",
       "       [1.        , 0.20975264, 0.        ],\n",
       "       [1.        , 0.21260572, 0.26      ],\n",
       "       [1.        , 0.09801072, 0.        ],\n",
       "       [1.        , 0.08643263, 0.247     ],\n",
       "       [1.        , 0.26032615, 0.        ],\n",
       "       [1.        , 0.11221501, 0.226     ],\n",
       "       [1.        , 0.21049608, 0.        ],\n",
       "       [0.        , 0.13748986, 0.        ],\n",
       "       [1.        , 0.26914791, 0.237     ],\n",
       "       [1.        , 0.22132671, 0.        ],\n",
       "       [1.        , 0.04992903, 0.        ],\n",
       "       [1.        , 0.21867397, 0.        ],\n",
       "       [1.        , 0.1464923 , 0.495     ],\n",
       "       [1.        , 0.14560523, 0.495     ],\n",
       "       [1.        , 0.42796026, 0.        ],\n",
       "       [1.        , 0.10970448, 0.226     ],\n",
       "       [1.        , 0.16863631, 0.513     ],\n",
       "       [1.        , 0.25399432, 0.483     ],\n",
       "       [1.        , 0.31696791, 0.        ],\n",
       "       [1.        , 0.12140105, 0.215     ],\n",
       "       [1.        , 0.10776561, 0.501     ],\n",
       "       [0.        , 0.14813463, 0.        ],\n",
       "       [1.        , 0.17270594, 0.        ],\n",
       "       [1.        , 0.14659367, 0.        ],\n",
       "       [1.        , 0.17222802, 0.5       ],\n",
       "       [1.        , 0.27136557, 0.332     ],\n",
       "       [1.        , 0.06278724, 0.        ],\n",
       "       [1.        , 0.38012687, 0.259     ],\n",
       "       [1.        , 0.12783861, 0.121     ],\n",
       "       [1.        , 0.11484523, 0.26      ],\n",
       "       [1.        , 0.33231955, 0.        ],\n",
       "       [1.        , 0.20840092, 0.717     ],\n",
       "       [1.        , 0.20051027, 0.273     ],\n",
       "       [1.        , 0.12770826, 0.        ],\n",
       "       [1.        , 0.16385341, 0.        ],\n",
       "       [1.        , 0.29974317, 0.38      ],\n",
       "       [1.        , 0.21260572, 0.26      ],\n",
       "       [1.        , 0.12783861, 0.121     ],\n",
       "       [1.        , 0.18295485, 0.        ],\n",
       "       [1.        , 0.08846563, 0.232     ],\n",
       "       [1.        , 0.29974317, 0.38      ],\n",
       "       [1.        , 0.08262368, 0.        ],\n",
       "       [1.        , 0.19676348, 0.197     ],\n",
       "       [1.        , 0.31941548, 0.        ],\n",
       "       [1.        , 0.263382  , 0.        ],\n",
       "       [1.        , 0.14997719, 0.304     ],\n",
       "       [1.        , 0.10301348, 0.226     ],\n",
       "       [1.        , 0.14560523, 0.495     ],\n",
       "       [1.        , 0.20051027, 0.273     ],\n",
       "       [1.        , 0.14628954, 0.        ],\n",
       "       [1.        , 0.07672344, 0.        ],\n",
       "       [1.        , 0.07192098, 0.247     ],\n",
       "       [1.        , 0.28974047, 0.        ],\n",
       "       [0.        , 0.07192098, 0.247     ],\n",
       "       [1.        , 0.11219248, 0.        ],\n",
       "       [1.        , 0.24327099, 0.        ],\n",
       "       [0.        , 0.37079278, 0.        ],\n",
       "       [1.        , 0.22298256, 0.        ],\n",
       "       [1.        , 0.08986212, 0.        ],\n",
       "       [1.        , 0.07463729, 0.        ],\n",
       "       [1.        , 0.14560523, 0.495     ],\n",
       "       [1.        , 0.14628954, 0.        ],\n",
       "       [1.        , 0.20840092, 0.717     ]])"
      ]
     },
     "execution_count": 28,
     "metadata": {},
     "output_type": "execute_result"
    }
   ],
   "source": [
    "x_test = text_pipeline.transform(x_test_raw)\n",
    "x_test"
   ]
  },
  {
   "cell_type": "code",
   "execution_count": 29,
   "metadata": {},
   "outputs": [],
   "source": [
    "label_encoder = LabelEncoder()"
   ]
  },
  {
   "cell_type": "code",
   "execution_count": 30,
   "metadata": {},
   "outputs": [
    {
     "data": {
      "text/plain": [
       "(array([1, 1, 0, 1, 0, 1, 0, 0, 1, 1, 1, 1, 1, 0, 0, 1, 0, 1, 0, 1, 0, 0,\n",
       "        0, 1, 1, 1, 1, 1, 0, 1, 1, 1, 0, 0, 0, 0, 0, 1, 0, 0, 0, 0, 1, 1,\n",
       "        1, 0, 0, 1, 1, 1, 1, 0, 1, 0, 0, 1, 0, 1, 0, 0, 0, 0, 1, 1, 0, 0,\n",
       "        1, 1, 0, 1, 1, 0, 1, 1, 1, 0, 1, 0, 1, 0, 1, 1, 1, 1, 1, 0, 1, 0,\n",
       "        0, 0, 1, 0, 1, 1, 1, 0, 1, 0, 0, 0, 1, 0, 0, 0, 1, 1, 1, 0, 1, 0,\n",
       "        1, 1, 1, 0, 0, 0, 0, 0, 0, 1, 1, 1, 0, 1, 0, 0, 0, 1, 0, 0, 0, 0,\n",
       "        1, 1, 0, 1, 1, 0, 1, 0, 0, 0, 1, 1, 1, 0, 1, 1, 1, 1, 1, 0, 1, 0,\n",
       "        1, 0, 1, 1, 0, 0, 0, 0, 0, 0, 0, 0, 0, 0, 0, 1, 1, 1, 1, 1, 1, 0,\n",
       "        0, 0, 1, 0, 1, 0, 0, 0, 0, 0, 0, 0, 0, 0, 1, 1, 1, 0, 1, 0, 1, 1,\n",
       "        1, 1, 1, 0, 1, 0, 1, 0, 0, 0, 0, 0, 1, 1, 0, 0, 1, 0, 0, 1, 1, 1,\n",
       "        1, 0, 0, 0, 0, 0, 1, 0, 0, 0, 1, 1, 0, 1, 1, 0, 0, 0, 1, 0, 1, 0,\n",
       "        0, 1, 1, 0, 0, 0, 0, 1, 1, 1, 1, 0, 1, 0, 1, 1, 0, 0, 0, 0, 1, 0,\n",
       "        1, 0, 0, 0, 1, 1, 1, 0, 1, 1, 0, 0, 0, 1, 0, 0, 1, 1, 1, 1, 1, 0,\n",
       "        1, 1, 0, 1, 1, 1, 0, 1, 0, 1, 0, 0, 0, 0, 1, 0, 1, 1, 0, 0, 1, 0,\n",
       "        0, 1, 1, 0, 0, 1, 0, 1, 1, 1, 1, 1, 0, 0, 1, 1, 0, 1, 1, 1, 0, 1,\n",
       "        0, 0, 1, 0, 1, 1, 1, 0, 1, 1, 1, 0, 0, 1, 1, 0, 0, 1, 0, 0, 0, 0,\n",
       "        1, 0, 1, 0, 0, 0, 0, 1, 1, 0, 0, 1, 0, 0, 0, 0, 0, 0, 1, 0, 0, 1,\n",
       "        1, 1, 1, 1, 1, 1, 0, 0, 0, 0, 0, 0, 0, 0, 0, 0, 0, 1, 1, 0, 1, 1,\n",
       "        0, 0, 1, 0, 1, 1, 0, 1, 0, 0, 0, 1, 1, 1, 0, 1, 1, 1, 1, 0, 0, 1,\n",
       "        0, 1, 0, 1, 0, 0, 1, 0, 1, 1, 0, 0, 1, 1, 0, 0, 0, 0, 1, 1, 0, 0,\n",
       "        1, 0, 0, 0, 1, 1, 0, 1, 0, 1, 0, 1, 0, 1, 1, 0, 1, 1, 1, 0, 0, 0,\n",
       "        1, 1, 1, 0, 1, 0, 1, 1, 0, 0, 1, 0, 0, 0, 1, 1, 1, 0, 0, 0, 1, 0,\n",
       "        0, 0, 1, 0, 0, 0, 0, 1, 0, 0, 0, 1, 1, 1, 0, 1, 0, 1, 0, 0, 1, 0,\n",
       "        0, 0, 0, 0, 1, 1, 1, 1, 1, 1, 0, 0, 0, 0, 0, 1, 0, 1, 1, 1, 0, 1,\n",
       "        1, 1, 1, 0, 0, 1, 1, 1, 0, 1, 0, 1, 0, 0, 0, 0, 0, 1, 1, 0, 1, 1,\n",
       "        0, 0, 1, 1, 0, 1, 0, 0, 1, 0, 0, 0, 0, 0, 1, 0, 0, 0, 1, 0, 0, 0,\n",
       "        1, 0, 1, 1, 1, 1, 0, 0, 1, 0, 0, 1, 0, 0, 0, 1, 0, 0, 0, 1, 1, 0,\n",
       "        1, 0, 0, 1, 1, 1, 1, 1, 1, 0, 0, 1, 0, 1, 0, 0, 1, 0, 0, 0, 1, 0,\n",
       "        1, 1, 1, 0, 1, 1, 0, 0, 0, 1, 0, 1, 0, 0, 0, 0, 0, 1, 0, 1, 1, 1,\n",
       "        1, 0, 1, 0, 0, 1, 0, 1, 0, 1, 0, 0, 1, 0, 1, 1, 1, 1, 0, 0, 0, 1,\n",
       "        0, 0, 0, 1, 1, 0, 1, 1, 1, 0, 1, 1, 0, 0, 1, 1, 0, 0, 0, 1, 1, 1,\n",
       "        1, 0, 1, 1, 0, 0, 1, 1, 0, 0, 0, 1, 1, 0, 0, 1, 1, 0, 0, 0, 1, 0,\n",
       "        1, 1, 1, 1, 0, 1, 0, 1, 0, 1, 0, 0, 1, 1, 1, 1, 0, 0, 1, 0, 0, 0,\n",
       "        0, 1, 0, 0, 0, 1, 1, 0, 0, 0, 0, 0, 1, 0, 0, 0, 1, 1, 0, 0, 1, 0,\n",
       "        0, 1, 1, 1, 0, 0, 1, 1, 1, 0, 0, 1, 0, 0, 1, 1, 1, 1, 0, 0, 0, 0,\n",
       "        1, 1]),\n",
       " array([0, 0, 1, 0, 0, 0, 0, 1, 1, 1, 0, 1, 1, 0, 0, 1, 1, 1, 1, 0, 0, 0,\n",
       "        1, 0, 1, 1, 1, 1, 0, 1, 1, 1, 1, 0, 1, 0, 0, 0, 1, 1, 1, 1, 1, 1,\n",
       "        0, 0, 1, 0, 1, 0, 1, 1, 1, 0, 1, 1, 1, 1, 1, 1, 1, 1, 1, 0, 0, 0,\n",
       "        0, 0, 0, 0, 1, 0, 1, 0, 1, 0, 0, 1, 1, 1, 0, 1, 1, 0, 0, 1, 1, 0,\n",
       "        0, 0, 1, 1, 1, 0, 1, 1, 1, 1, 0, 0, 0, 0, 0, 1, 1, 1, 1, 0, 1, 0,\n",
       "        1, 0, 0, 1, 0, 0, 1, 0, 0, 1, 1, 1, 1, 0, 0, 0, 1, 1, 0, 0, 0, 1,\n",
       "        1, 0, 0, 0, 1, 0, 1, 1, 1, 0, 0, 1, 1, 1, 1, 1, 0, 0, 1, 1, 1, 1,\n",
       "        1, 0, 0, 1, 0, 0, 0, 0, 1, 1, 1, 1, 0, 0, 0, 1, 1, 0, 1, 1, 0, 1,\n",
       "        1, 1, 1, 0, 1, 0, 1, 1, 0, 0, 0, 1, 0, 1, 0, 0, 0, 1, 0, 1, 0, 0,\n",
       "        0, 0, 0, 1, 0, 1, 1, 0, 0, 1, 0, 1, 0, 1, 1, 0, 0, 1, 1, 0, 0, 1,\n",
       "        1, 0, 1, 1, 1, 0, 1, 0, 1, 1, 1, 1, 1, 1, 0, 0, 0, 1, 0, 1, 0, 1,\n",
       "        0, 1, 1, 0, 1, 0, 0, 0, 1, 1, 0, 1, 1, 1, 1, 0, 1, 1, 1, 1, 1, 1,\n",
       "        0, 1, 0, 1, 1, 1, 1, 1, 0, 1, 0, 0, 0, 0, 1, 0, 1, 1, 0, 1, 1, 1,\n",
       "        0, 1, 1, 0, 0, 0, 1, 1, 0, 0, 0, 1, 0, 1, 1, 1, 0, 0, 1, 0, 0, 1,\n",
       "        0, 1, 1, 0, 0, 1, 1, 1, 1, 1, 0, 1, 0, 1, 0, 0, 1, 1, 0, 1, 1, 1,\n",
       "        1]))"
      ]
     },
     "execution_count": 30,
     "metadata": {},
     "output_type": "execute_result"
    }
   ],
   "source": [
    "y_train = label_encoder.fit_transform(y_train_raw)\n",
    "y_test = label_encoder.transform(y_test_raw)\n",
    "y_train, y_test"
   ]
  },
  {
   "cell_type": "code",
   "execution_count": 31,
   "metadata": {},
   "outputs": [
    {
     "data": {
      "text/plain": [
       "array(['ai', 'student'], dtype=object)"
      ]
     },
     "execution_count": 31,
     "metadata": {},
     "output_type": "execute_result"
    }
   ],
   "source": [
    "label_encoder.classes_"
   ]
  },
  {
   "cell_type": "markdown",
   "metadata": {},
   "source": [
    "### Function for plotting ROC"
   ]
  },
  {
   "cell_type": "code",
   "execution_count": 39,
   "metadata": {},
   "outputs": [],
   "source": [
    "def plot_roc(roc_auc, false_positive_rate, true_positive_rate):\n",
    "    plt.figure(figsize=(6, 6))\n",
    "    plt.title(\"Receiver Operating Characteristics\")\n",
    "    plt.plot(\n",
    "        false_positive_rate,\n",
    "        true_positive_rate,\n",
    "        color=\"red\",\n",
    "        label=\"AUC = {:.2f}\".format(roc_auc),\n",
    "    )\n",
    "    plt.legend(loc=\"lower right\")\n",
    "    plt.plot([0, 1], [0, 1], linestyle=\"--\")\n",
    "    plt.axis(\"tight\")\n",
    "    plt.ylabel(\"True Positive Rtae\")\n",
    "    plt.xlabel(\"False Positive Rtae\")"
   ]
  },
  {
   "cell_type": "markdown",
   "metadata": {},
   "source": [
    "### LDA"
   ]
  },
  {
   "cell_type": "code",
   "execution_count": 53,
   "metadata": {},
   "outputs": [
    {
     "data": {
      "text/plain": [
       "array([0, 0, 1, 0, 0, 0, 0, 1, 1, 1, 0, 1, 1, 0, 0, 1, 1, 1, 1, 0, 0, 0,\n",
       "       1, 0, 1, 1, 1, 1, 0, 1, 1, 1, 1, 0, 1, 0, 0, 0, 1, 1, 1, 1, 1, 1,\n",
       "       0, 0, 1, 0, 1, 0, 1, 1, 1, 0, 1, 1, 1, 1, 1, 1, 1, 1, 1, 0, 0, 0,\n",
       "       0, 0, 0, 0, 1, 0, 1, 0, 1, 0, 0, 1, 1, 1, 0, 1, 1, 0, 0, 1, 1, 0,\n",
       "       0, 0, 1, 1, 1, 0, 1, 1, 1, 1, 0, 0, 0, 0, 0, 1, 1, 1, 1, 0, 1, 0,\n",
       "       1, 0, 0, 1, 0, 0, 1, 0, 0, 1, 1, 1, 1, 0, 0, 0, 1, 1, 0, 0, 0, 1,\n",
       "       1, 0, 0, 0, 1, 0, 1, 1, 1, 0, 0, 1, 1, 1, 1, 1, 0, 0, 1, 1, 1, 1,\n",
       "       1, 0, 0, 1, 0, 0, 0, 0, 1, 1, 1, 1, 0, 0, 0, 1, 1, 0, 1, 1, 0, 1,\n",
       "       1, 1, 1, 0, 1, 0, 1, 1, 0, 0, 0, 1, 0, 1, 0, 0, 0, 1, 0, 1, 0, 0,\n",
       "       0, 0, 0, 1, 0, 1, 1, 0, 0, 1, 0, 1, 0, 1, 1, 0, 0, 1, 1, 0, 0, 1,\n",
       "       1, 0, 1, 1, 1, 0, 1, 0, 1, 1, 1, 1, 1, 1, 0, 0, 0, 1, 0, 1, 0, 1,\n",
       "       0, 1, 1, 0, 1, 0, 0, 0, 1, 1, 0, 1, 1, 1, 1, 0, 1, 1, 1, 1, 1, 1,\n",
       "       0, 1, 0, 1, 1, 1, 1, 1, 0, 1, 0, 0, 0, 0, 1, 0, 1, 1, 0, 1, 1, 1,\n",
       "       0, 1, 1, 0, 0, 0, 1, 1, 0, 0, 0, 1, 0, 1, 1, 1, 0, 0, 1, 0, 0, 1,\n",
       "       0, 1, 1, 0, 0, 1, 1, 1, 1, 1, 0, 1, 0, 1, 0, 0, 1, 1, 0, 1, 1, 1,\n",
       "       1])"
      ]
     },
     "execution_count": 53,
     "metadata": {},
     "output_type": "execute_result"
    }
   ],
   "source": [
    "y_test"
   ]
  },
  {
   "cell_type": "code",
   "execution_count": 52,
   "metadata": {},
   "outputs": [
    {
     "data": {
      "text/plain": [
       "array([0.03331008, 0.16894911, 0.95427811, 0.24753588, 0.13945948,\n",
       "       0.24069869, 0.23088279, 0.95427811, 0.92466778, 0.95685083,\n",
       "       0.06681098, 0.99761338, 0.18565401, 0.23815233, 0.15264148,\n",
       "       0.85235688, 0.88859973, 0.28340005, 0.97243435, 0.06115255,\n",
       "       0.26115189, 0.04883792, 0.9023467 , 0.11843881, 0.99361094,\n",
       "       0.91757971, 0.24518363, 0.11258704, 0.15095928, 0.97910519,\n",
       "       0.3179509 , 0.31684956, 0.25955147, 0.297337  , 0.87143581,\n",
       "       0.05067816, 0.16225657, 0.00852727, 0.93814057, 0.72502306,\n",
       "       0.99662794, 0.95427811, 0.93406236, 0.89573841, 0.18175974,\n",
       "       0.07277984, 0.1352515 , 0.04272502, 0.14528649, 0.24774308,\n",
       "       0.10400702, 0.88859973, 0.23490898, 0.20019894, 0.95427811,\n",
       "       0.95427811, 0.24518363, 0.94344706, 0.96426834, 0.64070792,\n",
       "       0.99856929, 0.99980209, 0.17452586, 0.14972296, 0.13498922,\n",
       "       0.20228907, 0.15440703, 0.07083719, 0.34379902, 0.33722214,\n",
       "       0.92413811, 0.33021731, 0.21852048, 0.28343532, 0.31684956,\n",
       "       0.27940544, 0.22175896, 0.28699921, 0.95427811, 0.11302222,\n",
       "       0.27940544, 0.34289297, 0.20941537, 0.19294455, 0.22463077,\n",
       "       0.97243435, 0.98523015, 0.28069223, 0.94757047, 0.22544851,\n",
       "       0.99771576, 0.84606315, 0.84606315, 0.03927976, 0.14087189,\n",
       "       0.86827821, 0.25472866, 0.83508491, 0.23649038, 0.10405185,\n",
       "       0.01536044, 0.26200534, 0.16101835, 0.918979  , 0.30295875,\n",
       "       0.92892954, 0.34289297, 0.04346774, 0.27637025, 0.1297573 ,\n",
       "       0.19200708, 0.03751399, 0.02098433, 0.95427811, 0.21427515,\n",
       "       0.297337  , 0.07355221, 0.05899061, 0.26499972, 0.99709247,\n",
       "       0.97243435, 0.78347121, 0.24847315, 0.06025678, 0.04811201,\n",
       "       0.15838844, 0.75054649, 0.18273928, 0.12119909, 0.10886375,\n",
       "       0.05351401, 0.90887401, 0.95427811, 0.26200534, 0.13509689,\n",
       "       0.06232254, 0.34289297, 0.03865021, 0.71873592, 0.76290472,\n",
       "       0.23490898, 0.17160081, 0.51850934, 0.99370751, 0.92641731,\n",
       "       0.99856929, 0.34289297, 0.92472313, 0.22310579, 0.79042892,\n",
       "       0.94658853, 0.97024067, 0.95427811, 0.34289297, 0.75054649,\n",
       "       0.07356177, 0.77607075, 0.99761338, 0.19875421, 0.16764673,\n",
       "       0.06636635, 0.29673365, 0.87515496, 0.89474982, 0.29151262,\n",
       "       0.99286678, 0.19351309, 0.10656656, 0.94757047, 0.99006209,\n",
       "       0.91950789, 0.03571095, 0.89605758, 0.82070352, 0.24388152,\n",
       "       0.27529388, 0.92111194, 0.0733858 , 0.14769511, 0.03337518,\n",
       "       0.91290626, 0.01623411, 0.01973011, 0.27529388, 0.06034875,\n",
       "       0.11697265, 0.15771647, 0.7838397 , 0.18839913, 0.90042664,\n",
       "       0.23798159, 0.33021731, 0.07852124, 0.95427811, 0.28825806,\n",
       "       0.8706741 , 0.13945948, 0.05351401, 0.15798818, 0.10120084,\n",
       "       0.12500809, 0.91457507, 0.40644222, 0.98627165, 0.8780396 ,\n",
       "       0.14402389, 0.06025678, 0.07355221, 0.05472893, 0.82978691,\n",
       "       0.61699521, 0.25955147, 0.75054649, 0.11155414, 0.18583888,\n",
       "       0.17248709, 0.07355221, 0.10078058, 0.3651903 , 0.90098781,\n",
       "       0.34289297, 0.23866908, 0.8810983 , 0.97876515, 0.21684836,\n",
       "       0.19158309, 0.21684836, 0.01947938, 0.8780396 , 0.90327552,\n",
       "       0.8886083 , 0.75054649, 0.94657486, 0.87865343, 0.33021731,\n",
       "       0.02913048, 0.13271259, 0.92413811, 0.0573462 , 0.11302222,\n",
       "       0.23964434, 0.91231676, 0.04596327, 0.92012662, 0.11302222,\n",
       "       0.0317891 , 0.19168087, 0.13029891, 0.15119315, 0.04289694,\n",
       "       0.95427811, 0.99771576, 0.20422834, 0.24847315, 0.20510577,\n",
       "       0.87955235, 0.8780396 , 0.16344218, 0.20510577, 0.99709247,\n",
       "       0.95427811, 0.95427811, 0.99980209, 0.88432231, 0.23873535,\n",
       "       0.88717746, 0.03773951, 0.92895151, 0.1352515 , 0.86783888,\n",
       "       0.28340005, 0.93942485, 0.09320227, 0.9023467 , 0.13453128,\n",
       "       0.21427515, 0.74647285, 0.12440222, 0.37086683, 0.12682092,\n",
       "       0.99707105, 0.99709247, 0.02492142, 0.90416787, 0.99728629,\n",
       "       0.99154199, 0.06034875, 0.87955235, 0.99805095, 0.19977278,\n",
       "       0.175411  , 0.20899767, 0.99662794, 0.91950789, 0.34632232,\n",
       "       0.61699521, 0.63992054, 0.93664555, 0.05351401, 0.99980209,\n",
       "       0.89756392, 0.23609713, 0.18629561, 0.94757047, 0.86783888,\n",
       "       0.63992054, 0.16344218, 0.92466778, 0.94757047, 0.31004262,\n",
       "       0.75067   , 0.05920677, 0.09108024, 0.95427811, 0.90887401,\n",
       "       0.99709247, 0.89756392, 0.20941537, 0.32061691, 0.94592821,\n",
       "       0.07451377, 0.94363597, 0.26011123, 0.10587741, 0.03782778,\n",
       "       0.12291259, 0.297337  , 0.32440092, 0.99709247, 0.20941537,\n",
       "       0.99980209])"
      ]
     },
     "execution_count": 52,
     "metadata": {},
     "output_type": "execute_result"
    }
   ],
   "source": [
    "lda = LinearDiscriminantAnalysis()\n",
    "lda.fit(x_train, y_train)\n",
    "\n",
    "y_prob_lda = lda.predict_proba(x_test)[:, 1]\n",
    "y_pred_lda = np.where(y_prob_lda > 0.5, 1, 0)\n",
    "y_prob_lda"
   ]
  },
  {
   "cell_type": "code",
   "execution_count": 54,
   "metadata": {},
   "outputs": [
    {
     "data": {
      "text/plain": [
       "array([[135,  12],\n",
       "       [ 61, 123]])"
      ]
     },
     "execution_count": 54,
     "metadata": {},
     "output_type": "execute_result"
    }
   ],
   "source": [
    "confusion_matrix_lda = confusion_matrix(y_test, y_pred_lda)\n",
    "confusion_matrix_lda"
   ]
  },
  {
   "cell_type": "code",
   "execution_count": 38,
   "metadata": {},
   "outputs": [
    {
     "data": {
      "text/plain": [
       "np.float64(0.7934228039041703)"
      ]
     },
     "execution_count": 38,
     "metadata": {},
     "output_type": "execute_result"
    }
   ],
   "source": [
    "false_positive_rate_lda, true_positive_rate_lda, thresholds = roc_curve(y_test, pred)\n",
    "roc_auc_lda = auc(false_positive_rate_lda, true_positive_rate_lda)\n",
    "roc_auc_lda"
   ]
  },
  {
   "cell_type": "code",
   "execution_count": 40,
   "metadata": {},
   "outputs": [
    {
     "data": {
      "image/png": "[encoded data removed]",
      "text/plain": [
       "<Figure size 600x600 with 1 Axes>"
      ]
     },
     "metadata": {},
     "output_type": "display_data"
    }
   ],
   "source": [
    "plot_roc(roc_auc_lda, false_positive_rate_lda, true_positive_rate_lda)"
   ]
  },
  {
   "cell_type": "markdown",
   "metadata": {},
   "source": [
    "### QDA"
   ]
  },
  {
   "cell_type": "code",
   "execution_count": 69,
   "metadata": {},
   "outputs": [],
   "source": [
    "qda = QuadraticDiscriminantAnalysis()\n",
    "qda.fit(x_train, y_train)\n",
    "pred = qda.predict(x_test)"
   ]
  },
  {
   "cell_type": "code",
   "execution_count": 70,
   "metadata": {},
   "outputs": [
    {
     "data": {
      "text/plain": [
       "array([[135,  12],\n",
       "       [ 61, 123]])"
      ]
     },
     "execution_count": 70,
     "metadata": {},
     "output_type": "execute_result"
    }
   ],
   "source": [
    "confusion_matrix_qda = confusion_matrix(y_test, pred)\n",
    "confusion_matrix_qda"
   ]
  },
  {
   "cell_type": "code",
   "execution_count": 71,
   "metadata": {},
   "outputs": [],
   "source": [
    "false_positive_rate_qda, true_positive_rate_qda, thresholds = roc_curve(y_test, pred)\n",
    "roc_auc_qda = auc(false_positive_rate_qda, true_positive_rate_qda)"
   ]
  },
  {
   "cell_type": "code",
   "execution_count": 72,
   "metadata": {},
   "outputs": [
    {
     "data": {
      "image/png": "[encoded data removed]",
      "text/plain": [
       "<Figure size 600x600 with 1 Axes>"
      ]
     },
     "metadata": {},
     "output_type": "display_data"
    }
   ],
   "source": [
    "plot_roc(roc_auc_qda, false_positive_rate_qda, true_positive_rate_qda)"
   ]
  },
  {
   "cell_type": "markdown",
   "metadata": {},
   "source": [
    "### K-nn"
   ]
  },
  {
   "cell_type": "code",
   "execution_count": 62,
   "metadata": {},
   "outputs": [
    {
     "data": {
      "text/plain": [
       "array([0, 0, 1, 0, 0, 0, 0, 1, 1, 1, 0, 1, 0, 0, 0, 1, 1, 0, 1, 0, 0, 0,\n",
       "       1, 0, 1, 1, 1, 1, 0, 1, 1, 0, 0, 0, 1, 0, 0, 0, 1, 1, 1, 1, 1, 1,\n",
       "       0, 1, 0, 0, 0, 0, 0, 1, 1, 0, 1, 1, 1, 1, 1, 0, 1, 1, 1, 0, 0, 1,\n",
       "       0, 0, 1, 1, 1, 1, 1, 0, 0, 0, 0, 1, 1, 1, 0, 1, 1, 0, 0, 1, 1, 0,\n",
       "       1, 0, 1, 1, 1, 0, 0, 1, 1, 1, 1, 0, 0, 0, 0, 1, 0, 1, 1, 0, 1, 0,\n",
       "       0, 0, 0, 1, 0, 0, 0, 0, 0, 1, 1, 1, 0, 0, 0, 0, 1, 0, 0, 0, 0, 1,\n",
       "       1, 0, 0, 0, 1, 0, 1, 1, 1, 0, 0, 1, 1, 1, 1, 1, 0, 1, 1, 1, 1, 1,\n",
       "       1, 0, 1, 1, 0, 0, 0, 0, 1, 1, 0, 1, 0, 0, 1, 1, 1, 1, 1, 1, 0, 0,\n",
       "       1, 1, 0, 0, 1, 0, 0, 0, 0, 0, 0, 1, 0, 1, 0, 1, 0, 1, 1, 1, 0, 0,\n",
       "       0, 0, 0, 1, 0, 1, 1, 0, 0, 0, 0, 0, 0, 0, 1, 0, 0, 1, 0, 0, 0, 1,\n",
       "       1, 0, 1, 1, 1, 0, 1, 0, 1, 1, 1, 1, 1, 1, 1, 0, 0, 1, 0, 1, 0, 1,\n",
       "       0, 1, 1, 0, 0, 0, 0, 0, 1, 1, 1, 0, 1, 1, 1, 0, 1, 1, 1, 1, 1, 1,\n",
       "       0, 1, 0, 1, 0, 1, 0, 1, 0, 1, 0, 0, 1, 0, 0, 0, 1, 1, 0, 1, 1, 1,\n",
       "       0, 1, 1, 0, 1, 1, 1, 1, 0, 0, 0, 1, 0, 1, 1, 1, 0, 1, 1, 0, 0, 1,\n",
       "       1, 0, 1, 0, 0, 1, 1, 1, 1, 1, 1, 1, 0, 1, 0, 0, 0, 0, 0, 1, 1, 1,\n",
       "       1])"
      ]
     },
     "execution_count": 62,
     "metadata": {},
     "output_type": "execute_result"
    }
   ],
   "source": [
    "knn = KNeighborsClassifier()\n",
    "knn.fit(x_train, y_train)\n",
    "pred = knn.predict(x_test)\n",
    "pred"
   ]
  },
  {
   "cell_type": "code",
   "execution_count": 63,
   "metadata": {},
   "outputs": [
    {
     "data": {
      "text/plain": [
       "array([[126,  21],\n",
       "       [ 32, 152]])"
      ]
     },
     "execution_count": 63,
     "metadata": {},
     "output_type": "execute_result"
    }
   ],
   "source": [
    "confusion_matrix_knn = confusion_matrix(y_test, pred)\n",
    "confusion_matrix_knn"
   ]
  },
  {
   "cell_type": "code",
   "execution_count": 66,
   "metadata": {},
   "outputs": [],
   "source": [
    "false_positive_rate_knn, true_positive_rate_knn, thresholds = roc_curve(y_test, pred)\n",
    "roc_auc_knn = auc(false_positive_rate_knn, true_positive_rate_knn)"
   ]
  },
  {
   "cell_type": "code",
   "execution_count": 67,
   "metadata": {},
   "outputs": [
    {
     "data": {
      "image/png": "[encoded data removed]",
      "text/plain": [
       "<Figure size 600x600 with 1 Axes>"
      ]
     },
     "metadata": {},
     "output_type": "display_data"
    }
   ],
   "source": [
    "plot_roc(roc_auc_knn, false_positive_rate_knn, true_positive_rate_knn)"
   ]
  },
  {
   "cell_type": "code",
   "execution_count": 93,
   "metadata": {},
   "outputs": [],
   "source": [
    "svm = SVC(kernel=\"sigmoid\")\n",
    "svm.fit(x_train, y_train)\n",
    "pred = svm.predict(x_test)"
   ]
  },
  {
   "cell_type": "code",
   "execution_count": 94,
   "metadata": {},
   "outputs": [
    {
     "data": {
      "text/plain": [
       "array([[138,   9],\n",
       "       [ 63, 121]])"
      ]
     },
     "execution_count": 94,
     "metadata": {},
     "output_type": "execute_result"
    }
   ],
   "source": [
    "confusion_matrix_svm = confusion_matrix(y_test, pred)\n",
    "confusion_matrix_svm"
   ]
  },
  {
   "cell_type": "code",
   "execution_count": 95,
   "metadata": {},
   "outputs": [],
   "source": [
    "false_positive_rate_svm, true_positive_rate_svm, thresholds = roc_curve(y_test, pred)\n",
    "roc_auc_svm = auc(false_positive_rate_svm, true_positive_rate_svm)"
   ]
  },
  {
   "cell_type": "code",
   "execution_count": 97,
   "metadata": {},
   "outputs": [
    {
     "data": {
      "image/png": "[encoded data removed]",
      "text/plain": [
       "<Figure size 600x600 with 1 Axes>"
      ]
     },
     "metadata": {},
     "output_type": "display_data"
    }
   ],
   "source": [
    "plot_roc(roc_auc_svm, false_positive_rate_svm, true_positive_rate_svm)"
   ]
  },
  {
   "cell_type": "code",
   "execution_count": 100,
   "metadata": {},
   "outputs": [],
   "source": [
    "rfc = RandomForestClassifier()\n",
    "rfc.fit(x_train, y_train)\n",
    "pred = rfc.predict(x_test)"
   ]
  },
  {
   "cell_type": "code",
   "execution_count": 101,
   "metadata": {},
   "outputs": [
    {
     "data": {
      "text/plain": [
       "array([[136,  11],\n",
       "       [ 18, 166]])"
      ]
     },
     "execution_count": 101,
     "metadata": {},
     "output_type": "execute_result"
    }
   ],
   "source": [
    "confusion_matrix_svm = confusion_matrix(y_test, pred)\n",
    "confusion_matrix_svm"
   ]
  },
  {
   "cell_type": "code",
   "execution_count": 102,
   "metadata": {},
   "outputs": [],
   "source": [
    "false_positive_rate_rfc, true_positive_rate_rfc, thresholds = roc_curve(y_test, pred)\n",
    "roc_auc_rfc = auc(false_positive_rate_rfc, true_positive_rate_rfc)"
   ]
  },
  {
   "cell_type": "code",
   "execution_count": 103,
   "metadata": {},
   "outputs": [
    {
     "data": {
      "image/png": "[encoded data removed]",
      "text/plain": [
       "<Figure size 600x600 with 1 Axes>"
      ]
     },
     "metadata": {},
     "output_type": "display_data"
    }
   ],
   "source": [
    "plot_roc(roc_auc_rfc, false_positive_rate_rfc, true_positive_rate_rfc)"
   ]
  }
 ],
 "metadata": {
  "kernelspec": {
   "display_name": ".venv",
   "language": "python",
   "name": "python3"
  },
  "language_info": {
   "codemirror_mode": {
    "name": "ipython",
    "version": 3
   },
   "file_extension": ".py",
   "mimetype": "text/x-python",
   "name": "python",
   "nbconvert_exporter": "python",
   "pygments_lexer": "ipython3",
   "version": "3.12.3"
  }
 },
 "nbformat": 4,
 "nbformat_minor": 2
}
